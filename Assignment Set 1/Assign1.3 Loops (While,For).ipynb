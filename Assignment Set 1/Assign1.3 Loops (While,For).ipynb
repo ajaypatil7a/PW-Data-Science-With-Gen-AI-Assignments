{
 "cells": [
  {
   "cell_type": "markdown",
   "id": "815256ba-e2ba-4f46-a4a0-b8611ce0220f",
   "metadata": {},
   "source": [
    "Q1 Print number from 1 to 5 using a while loop."
   ]
  },
  {
   "cell_type": "code",
   "execution_count": 1,
   "id": "b6632092-e493-4ee8-b692-7f48280a5085",
   "metadata": {},
   "outputs": [
    {
     "name": "stdout",
     "output_type": "stream",
     "text": [
      "1 2 3 4 5 "
     ]
    }
   ],
   "source": [
    "count = 1 #initializing counter\n",
    "while count<=5:\n",
    "    print(count,end=\" \") \n",
    "    count+=1 # Increment counter by 1"
   ]
  },
  {
   "cell_type": "markdown",
   "id": "78a26d39-f511-4ddf-8e25-1a7e8f3dbd43",
   "metadata": {},
   "source": [
    "Q2 Calculate the sum of number from 1 to 10 using a while loop."
   ]
  },
  {
   "cell_type": "code",
   "execution_count": 2,
   "id": "0dafa990-7cac-4f82-a6c3-4483b67fa899",
   "metadata": {},
   "outputs": [
    {
     "name": "stdout",
     "output_type": "stream",
     "text": [
      "Sum of numbers from 1 to 10 is 55\n"
     ]
    }
   ],
   "source": [
    "count = 1 #initializing counter\n",
    "sumOfNumbers = 0  \n",
    "while count<=10:\n",
    "    sumOfNumbers += count\n",
    "    count+=1 # Increment counter by 1\n",
    "    \n",
    "print(f\"Sum of numbers from 1 to 10 is {sumOfNumbers}\")"
   ]
  },
  {
   "cell_type": "markdown",
   "id": "39f97479-ae79-4e41-9aeb-3e1d5c044e3d",
   "metadata": {},
   "source": [
    "Q3 Calculate the factorial of a number using a for loop."
   ]
  },
  {
   "cell_type": "code",
   "execution_count": 3,
   "id": "1397b4ec-9ff7-40be-8877-ec1bdc7f7132",
   "metadata": {},
   "outputs": [
    {
     "name": "stdin",
     "output_type": "stream",
     "text": [
      "Enter number to calculate factorial :  5\n"
     ]
    },
    {
     "name": "stdout",
     "output_type": "stream",
     "text": [
      "Factorial of 5 is 120\n"
     ]
    }
   ],
   "source": [
    "fact = 1 # Initializing fact variable\n",
    "num = int(input(\"Enter number to calculate factorial : \"))\n",
    "\n",
    "# Using for loop to calculate factorial\n",
    "for i in range(1,num+1):\n",
    "    fact = fact * i\n",
    "    \n",
    "print(f\"Factorial of {num} is {fact}\")"
   ]
  },
  {
   "cell_type": "markdown",
   "id": "eb41e134-cd4d-45e7-9c68-c11d052972ee",
   "metadata": {},
   "source": [
    "Q4 Count the number of vowels in a string using a for loop."
   ]
  },
  {
   "cell_type": "code",
   "execution_count": 8,
   "id": "7851f014-d038-4be6-b003-e70e28dd1ca9",
   "metadata": {},
   "outputs": [
    {
     "name": "stdin",
     "output_type": "stream",
     "text": [
      "Enter a string to calculate vowels :  Ajay Manoj Patil\n"
     ]
    },
    {
     "name": "stdout",
     "output_type": "stream",
     "text": [
      "Number of vowels in the given string are 6\n"
     ]
    }
   ],
   "source": [
    "vowels = ['a','e','i','o','u'] # Vowels \n",
    "string = input(\"Enter a string to calculate vowels : \")\n",
    "count = 0 # Counter to calculate number of vowels\n",
    "\n",
    "for i in range(len(string)):\n",
    "    if string[i].lower() in vowels:\n",
    "        count += 1\n",
    "        \n",
    "print(f\"Number of vowels in the given string are {count}\")"
   ]
  },
  {
   "cell_type": "markdown",
   "id": "e8e298f4-f6b8-4858-b130-0e189eab566f",
   "metadata": {},
   "source": [
    "Q5 Print a pattern using nested loop."
   ]
  },
  {
   "cell_type": "code",
   "execution_count": 9,
   "id": "68d2a71f-3472-4857-b64b-f3f2eb34784c",
   "metadata": {},
   "outputs": [
    {
     "name": "stdin",
     "output_type": "stream",
     "text": [
      "Enter number of rows you want in pattern :  5\n"
     ]
    },
    {
     "name": "stdout",
     "output_type": "stream",
     "text": [
      "* * * * * \n",
      "* * * * * \n",
      "* * * * * \n",
      "* * * * * \n",
      "* * * * * \n"
     ]
    }
   ],
   "source": [
    "row = int(input(\"Enter number of rows you want in pattern : \")) # Taking user input for number of rows\n",
    "\n",
    "# printing sqaure pattern of stars\n",
    "for i in range(row):\n",
    "    for j in range(row):\n",
    "        print(\"*\",end=' ')\n",
    "    print()\n"
   ]
  },
  {
   "cell_type": "markdown",
   "id": "3859c6d1-3354-4a02-bf64-d69255994d79",
   "metadata": {},
   "source": [
    "Q6 Generate a multiplication table using nested loop."
   ]
  },
  {
   "cell_type": "code",
   "execution_count": null,
   "id": "5eb72c7d-108d-4b83-b395-6bf105330258",
   "metadata": {},
   "outputs": [],
   "source": [
    "# Taking last number upto which user wants to generate multiplication table\n",
    "num = int(input(\"Enter number upto which you want to generate multiplication table : \"))\n",
    "\n",
    "for i in range(1,num+1):\n",
    "    print(f\"Multiplication Table of {i}\")\n",
    "    for j in range (1,11):\n",
    "        print(f\"{i} * {j} = {i*j}\")"
   ]
  },
  {
   "cell_type": "code",
   "execution_count": null,
   "id": "0c373438-6453-404f-8082-c3985b45dce0",
   "metadata": {},
   "outputs": [],
   "source": []
  }
 ],
 "metadata": {
  "kernelspec": {
   "display_name": "Python 3 (ipykernel)",
   "language": "python",
   "name": "python3"
  },
  "language_info": {
   "codemirror_mode": {
    "name": "ipython",
    "version": 3
   },
   "file_extension": ".py",
   "mimetype": "text/x-python",
   "name": "python",
   "nbconvert_exporter": "python",
   "pygments_lexer": "ipython3",
   "version": "3.10.8"
  }
 },
 "nbformat": 4,
 "nbformat_minor": 5
}
