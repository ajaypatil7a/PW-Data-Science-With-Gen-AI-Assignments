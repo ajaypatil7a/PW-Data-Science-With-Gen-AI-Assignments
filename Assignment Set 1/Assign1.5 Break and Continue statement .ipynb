{
 "cells": [
  {
   "cell_type": "markdown",
   "id": "5f61cf81-0375-40a9-bc67-ce0122ad9b18",
   "metadata": {},
   "source": [
    "Q1 Write a program to print numbers from 1 to 10, but stop if the number is 5."
   ]
  },
  {
   "cell_type": "code",
   "execution_count": 1,
   "id": "489e274a-2e46-4724-bed3-14d3aa8e54d2",
   "metadata": {},
   "outputs": [
    {
     "name": "stdout",
     "output_type": "stream",
     "text": [
      "1 2 3 4 "
     ]
    }
   ],
   "source": [
    "count = 1; # Initializing counter\n",
    "while count<=10: \n",
    "    if(count==5): # Check condition if count reached 5\n",
    "        break # Abruptly stop loop if condition is true\n",
    "    print(count,end=\" \")\n",
    "    count += 1"
   ]
  },
  {
   "cell_type": "markdown",
   "id": "089262e7-1735-4acf-8338-3940faa9f791",
   "metadata": {},
   "source": [
    "Q2 Write a program to iterate through a list and stop when encountering a specific element."
   ]
  },
  {
   "cell_type": "code",
   "execution_count": 2,
   "id": "b56e4fba-eb6c-4368-889e-d24bd951651d",
   "metadata": {},
   "outputs": [
    {
     "name": "stdin",
     "output_type": "stream",
     "text": [
      "Enter a number :  10\n"
     ]
    },
    {
     "name": "stdout",
     "output_type": "stream",
     "text": [
      "10\n"
     ]
    }
   ],
   "source": [
    "list = [1,2,3,4,5,6,7,8,9,10,11,12,13,14,15,16,17,18,19,20] # List of elements\n",
    "num = int(input(\"Enter a number : \")) # Getting number from user \n",
    "\n",
    "for i in list: # Iterate through a elements of list\n",
    "    if i==num: # Stops when encountered specific element\n",
    "        print(i)\n",
    "        break"
   ]
  },
  {
   "cell_type": "markdown",
   "id": "ba71a39d-76ad-430d-838f-dee812b52bf0",
   "metadata": {},
   "source": [
    "Q3 Write a program to skip printing even numbers from 1 to 10."
   ]
  },
  {
   "cell_type": "code",
   "execution_count": 4,
   "id": "946b87db-7644-4e46-8d36-81a1555e8cc0",
   "metadata": {},
   "outputs": [
    {
     "name": "stdout",
     "output_type": "stream",
     "text": [
      "1 3 5 7 9 "
     ]
    }
   ],
   "source": [
    "for i in range(1,11): \n",
    "    if i%2==0: # Check condition if count is even\n",
    "        continue # Continues current iteration and skips further statements\n",
    "    print(i,end=\" \")"
   ]
  },
  {
   "cell_type": "markdown",
   "id": "c52ca20e-6f2f-4572-9f24-408383266dfd",
   "metadata": {},
   "source": [
    "Q4 Write a program to print numbers from 0 to 9 using range."
   ]
  },
  {
   "cell_type": "code",
   "execution_count": 5,
   "id": "86e097bf-c142-4f9e-9423-29432c81fad7",
   "metadata": {},
   "outputs": [
    {
     "name": "stdout",
     "output_type": "stream",
     "text": [
      "0 1 2 3 4 5 6 7 8 9 "
     ]
    }
   ],
   "source": [
    "for i in range(10): # Ranger will iterative object of numbers 0 to 9\n",
    "    print(i,end=\" \") # print number"
   ]
  },
  {
   "cell_type": "markdown",
   "id": "6ace9029-998d-4b98-85b8-b5d133174059",
   "metadata": {},
   "source": [
    "Q5 Write a program to print multiplication tables from 1 to 5, but stop after the first table is printed for each number."
   ]
  },
  {
   "cell_type": "code",
   "execution_count": 12,
   "id": "3cfae317-2d00-445c-b61c-86c308ff7cb1",
   "metadata": {},
   "outputs": [
    {
     "name": "stdout",
     "output_type": "stream",
     "text": [
      "1 * 1 = 1\n",
      "1 * 2 = 2\n",
      "1 * 3 = 3\n",
      "1 * 4 = 4\n",
      "1 * 5 = 5\n",
      "1 * 6 = 6\n",
      "1 * 7 = 7\n",
      "1 * 8 = 8\n",
      "1 * 9 = 9\n",
      "1 * 10 = 10\n"
     ]
    },
    {
     "name": "stdin",
     "output_type": "stream",
     "text": [
      "Do you want to continue(y/n) :  y\n"
     ]
    },
    {
     "name": "stdout",
     "output_type": "stream",
     "text": [
      "2 * 1 = 2\n",
      "2 * 2 = 4\n",
      "2 * 3 = 6\n",
      "2 * 4 = 8\n",
      "2 * 5 = 10\n",
      "2 * 6 = 12\n",
      "2 * 7 = 14\n",
      "2 * 8 = 16\n",
      "2 * 9 = 18\n",
      "2 * 10 = 20\n"
     ]
    },
    {
     "name": "stdin",
     "output_type": "stream",
     "text": [
      "Do you want to continue(y/n) :  y\n"
     ]
    },
    {
     "name": "stdout",
     "output_type": "stream",
     "text": [
      "3 * 1 = 3\n",
      "3 * 2 = 6\n",
      "3 * 3 = 9\n",
      "3 * 4 = 12\n",
      "3 * 5 = 15\n",
      "3 * 6 = 18\n",
      "3 * 7 = 21\n",
      "3 * 8 = 24\n",
      "3 * 9 = 27\n",
      "3 * 10 = 30\n"
     ]
    },
    {
     "name": "stdin",
     "output_type": "stream",
     "text": [
      "Do you want to continue(y/n) :  y\n"
     ]
    },
    {
     "name": "stdout",
     "output_type": "stream",
     "text": [
      "4 * 1 = 4\n",
      "4 * 2 = 8\n",
      "4 * 3 = 12\n",
      "4 * 4 = 16\n",
      "4 * 5 = 20\n",
      "4 * 6 = 24\n",
      "4 * 7 = 28\n",
      "4 * 8 = 32\n",
      "4 * 9 = 36\n",
      "4 * 10 = 40\n"
     ]
    },
    {
     "name": "stdin",
     "output_type": "stream",
     "text": [
      "Do you want to continue(y/n) :  y\n"
     ]
    },
    {
     "name": "stdout",
     "output_type": "stream",
     "text": [
      "5 * 1 = 5\n",
      "5 * 2 = 10\n",
      "5 * 3 = 15\n",
      "5 * 4 = 20\n",
      "5 * 5 = 25\n",
      "5 * 6 = 30\n",
      "5 * 7 = 35\n",
      "5 * 8 = 40\n",
      "5 * 9 = 45\n",
      "5 * 10 = 50\n"
     ]
    }
   ],
   "source": [
    "for i in range(1,6): \n",
    "    for j in range(1,11):\n",
    "        print(f\"{i} * {j} = {i*j}\")\n",
    "    if(i<5):\n",
    "        choice = input(\"Do you want to continue(y/n) : \") # Taking whether user wants to continue or stops\n",
    "        if choice.lower()=='n': # If user don't want to continue it stops the loop and further tables are not printed\n",
    "            break\n",
    "        "
   ]
  },
  {
   "cell_type": "markdown",
   "id": "ad6258b8-f9e7-4476-8358-1972c245ad1e",
   "metadata": {},
   "source": [
    "Q6 Write a program to skip printing even numbers using a while loop."
   ]
  },
  {
   "cell_type": "code",
   "execution_count": null,
   "id": "bc89fe62-efa0-4b17-933e-5475efefd948",
   "metadata": {},
   "outputs": [],
   "source": [
    "count = 1; # Initializing counter\n",
    "num = int(input(\"Enter number upto which you want to print number\"))\n",
    "while count<=10: \n",
    "    if i%2==0: # Check condition if count is even\n",
    "        continue # Continues current iteration and skips further statements\n",
    "    print(i,end=\" \")"
   ]
  }
 ],
 "metadata": {
  "kernelspec": {
   "display_name": "Python 3 (ipykernel)",
   "language": "python",
   "name": "python3"
  },
  "language_info": {
   "codemirror_mode": {
    "name": "ipython",
    "version": 3
   },
   "file_extension": ".py",
   "mimetype": "text/x-python",
   "name": "python",
   "nbconvert_exporter": "python",
   "pygments_lexer": "ipython3",
   "version": "3.10.8"
  }
 },
 "nbformat": 4,
 "nbformat_minor": 5
}
