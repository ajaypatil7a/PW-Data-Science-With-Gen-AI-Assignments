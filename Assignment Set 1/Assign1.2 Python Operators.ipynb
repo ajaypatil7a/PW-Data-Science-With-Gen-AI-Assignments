{
 "cells": [
  {
   "cell_type": "markdown",
   "id": "03dd2ef1-4f2c-48ea-abce-167cdf6d9554",
   "metadata": {},
   "source": [
    "Q1 Calculate the sum, difference, product, and quotient of two numbers."
   ]
  },
  {
   "cell_type": "code",
   "execution_count": 6,
   "id": "b12c79fd-673c-44cf-9fe9-7ccf0843a0bd",
   "metadata": {},
   "outputs": [
    {
     "name": "stdin",
     "output_type": "stream",
     "text": [
      "Enter first number  :  23\n",
      "Enter second number :  56\n",
      "Enter operation(+,-,*,/) :  *\n"
     ]
    },
    {
     "name": "stdout",
     "output_type": "stream",
     "text": [
      "Product of 23 and 56 is 1288\n"
     ]
    }
   ],
   "source": [
    "# Taking nums input\n",
    "num1 = int(input(\"Enter first number  : \"))\n",
    "num2 = int(input(\"Enter second number : \"))\n",
    "# Taking operations input\n",
    "op = input(\"Enter operation(+,-,*,/) : \")\n",
    "\n",
    "# Performing opearations based on opeartion input\n",
    "if(op=='+'):\n",
    "    print(f\"Sum of {num1} and {num2} is {num1+num2}\")\n",
    "elif(op=='-'):\n",
    "    print(f\"Difference of {num1} and {num2} is {num1-num2}\")\n",
    "elif(op=='*'):\n",
    "    print(f\"Product of {num1} and {num2} is {num1*num2}\")\n",
    "elif(op=='/'):\n",
    "    print(f\"Quotient of {num1} and {num2} is {num1/num2}\")"
   ]
  },
  {
   "cell_type": "markdown",
   "id": "9e5f5739-d71d-4984-9ce2-a089d91f7cf0",
   "metadata": {},
   "source": [
    "Q2 Perform various assignment operations on a variable."
   ]
  },
  {
   "cell_type": "code",
   "execution_count": 3,
   "id": "c4295c9b-88dc-4480-9c8b-68113e103b19",
   "metadata": {},
   "outputs": [
    {
     "name": "stdout",
     "output_type": "stream",
     "text": [
      "10\n",
      "20\n",
      "10\n",
      "100\n",
      "10.0\n"
     ]
    }
   ],
   "source": [
    "num = 10 # Assigning value to a variable using '=' assignment operator\n",
    "print(num)\n",
    "num += 10 # Adding and assigning value to a variable using '+='  Compound assignment operator\n",
    "print(num)\n",
    "num -= 10 # Subtracting and assigning value to a variable using '-='  Compound assignment operator\n",
    "print(num)\n",
    "num *= 10 # Multiplying and assigning value to a variable using '*='  Compound assignment operator\n",
    "print(num)\n",
    "num /= 10 # Dividing and assigning value to a variable using '/='  Compound assignment operator\n",
    "print(num)"
   ]
  },
  {
   "cell_type": "markdown",
   "id": "4e30cbf4-8ffe-4006-995b-c0c378ed0be0",
   "metadata": {},
   "source": [
    "Q3 Compare two numbers and print the results."
   ]
  },
  {
   "cell_type": "code",
   "execution_count": 7,
   "id": "f1f409b9-22d7-4ec2-b5f8-63f5b1d2b715",
   "metadata": {},
   "outputs": [
    {
     "name": "stdin",
     "output_type": "stream",
     "text": [
      "Enter first number  :  67\n",
      "Enter second number :  3\n"
     ]
    },
    {
     "name": "stdout",
     "output_type": "stream",
     "text": [
      "67 is greater than 3\n"
     ]
    }
   ],
   "source": [
    "# Taking inputs for comparison\n",
    "num1 = int(input(\"Enter first number  : \"))\n",
    "num2 = int(input(\"Enter second number : \"))\n",
    "\n",
    "# Checking using comparison opeartors\n",
    "if(num1>num2):\n",
    "    print(f\"{num1} is greater than {num2}\")\n",
    "elif(num1<num2):\n",
    "    print(f\"{num1} is smaller than {num2}\")\n",
    "else:\n",
    "    print(f\"{num1} and {num2} are equal\")"
   ]
  },
  {
   "cell_type": "markdown",
   "id": "5006f930-e327-4119-9b73-1c5aa8e08935",
   "metadata": {},
   "source": [
    "Q4 Check conditions using logical operators."
   ]
  },
  {
   "cell_type": "code",
   "execution_count": 10,
   "id": "e841b563-5566-4958-98db-b61255e36b9c",
   "metadata": {},
   "outputs": [
    {
     "name": "stdin",
     "output_type": "stream",
     "text": [
      "Enter first number  :  75\n",
      "Enter second number :  45\n"
     ]
    },
    {
     "name": "stdout",
     "output_type": "stream",
     "text": [
      "75 and 45 are equal               : False\n",
      "75 is greater than 45             : True\n",
      "75 is smaller than 45             : False\n",
      "75 is greater than or equal to 45 : True\n",
      "75 is greater less or equal to 45 : False\n",
      "75 is not equal to 45             : False\n"
     ]
    }
   ],
   "source": [
    "# Taking nums input\n",
    "num1 = int(input(\"Enter first number  : \"))\n",
    "num2 = int(input(\"Enter second number : \"))\n",
    "\n",
    "# printing comparison results\n",
    "print(f\"{num1} and {num2} are equal               : {num1==num2}\") \n",
    "print(f\"{num1} is greater than {num2}             : {num1>num2}\")\n",
    "print(f\"{num1} is smaller than {num2}             : {num1<num2}\")\n",
    "print(f\"{num1} is greater than or equal to {num2} : {num1>=num2}\") \n",
    "print(f\"{num1} is greater less or equal to {num2} : {num1<=num2}\") \n",
    "print(f\"{num1} is not equal to {num2}             : {num1==num2}\") "
   ]
  },
  {
   "cell_type": "markdown",
   "id": "ba1f27b2-8147-495c-8c27-eca83527a799",
   "metadata": {},
   "source": [
    "Q5 Check the identity of variables."
   ]
  },
  {
   "cell_type": "code",
   "execution_count": 11,
   "id": "ac0fd236-a099-4d7d-9521-faca0b921ef3",
   "metadata": {},
   "outputs": [
    {
     "name": "stdin",
     "output_type": "stream",
     "text": [
      "Enter string :  Ajay\n",
      "Enter string :  ajay\n"
     ]
    },
    {
     "name": "stdout",
     "output_type": "stream",
     "text": [
      "False\n",
      "True\n"
     ]
    }
   ],
   "source": [
    "# Taking two string inputes\n",
    "str1 = input(\"Enter string : \")\n",
    "str2 = input(\"Enter string : \")\n",
    "\n",
    "# Checking identity of string\n",
    "result = str1 is str2\n",
    "print(result)\n",
    "result = str1 is not str2\n",
    "print(result)"
   ]
  },
  {
   "cell_type": "markdown",
   "id": "f030f708-624a-4412-b9d4-eee4ae30ffc7",
   "metadata": {},
   "source": [
    "Q6 Perform bitwise operations on any two integers."
   ]
  },
  {
   "cell_type": "code",
   "execution_count": 13,
   "id": "ea7e6881-8b82-4dac-a537-7a2652976c22",
   "metadata": {},
   "outputs": [
    {
     "name": "stdin",
     "output_type": "stream",
     "text": [
      "Enter first number  :  100\n",
      "Enter second number :  45\n"
     ]
    },
    {
     "name": "stdout",
     "output_type": "stream",
     "text": [
      "Result of num1 & num2 : 36\n",
      "Result of num1 | num2 : 109\n",
      "Result of num1 ^ num2 : 73\n",
      "Result of not of num1 : -101\n",
      "Result of num1<<2     : 400\n",
      "Result of num1>>2     : 25\n"
     ]
    }
   ],
   "source": [
    "# Taking nums input\n",
    "num1 = int(input(\"Enter first number  : \"))\n",
    "num2 = int(input(\"Enter second number : \"))\n",
    "\n",
    "# Performing bitwise operations\n",
    "print(f\"Result of num1 & num2 : {num1&num2}\") # bitwise and\n",
    "print(f\"Result of num1 | num2 : {num1|num2}\") # bitwise or\n",
    "print(f\"Result of num1 ^ num2 : {num1^num2}\") # bitwise XOR\n",
    "print(f\"Result of not of num1 : {~num1}\")     # bitwise not\n",
    "print(f\"Result of num1<<2     : {num1<<2}\")   # left shift by 2\n",
    "print(f\"Result of num1>>2     : {num1>>2}\")   # right shift by 2"
   ]
  },
  {
   "cell_type": "markdown",
   "id": "4ea289d7-4d6b-4755-8793-5c1e143e3841",
   "metadata": {},
   "source": [
    "Q7 Use unary operators to change the sign of a number."
   ]
  },
  {
   "cell_type": "code",
   "execution_count": 16,
   "id": "7111ec16-b9eb-4f0d-b4f8-44201a0553a3",
   "metadata": {},
   "outputs": [
    {
     "name": "stdin",
     "output_type": "stream",
     "text": [
      "Enter a number :  75\n"
     ]
    },
    {
     "name": "stdout",
     "output_type": "stream",
     "text": [
      "75\n",
      "After unary minus  -75\n",
      "After unary plus  -75\n",
      "After unary not  74\n"
     ]
    }
   ],
   "source": [
    "num = int(input(\"Enter a number : \")) \n",
    "print(num)\n",
    "num = -num # Unary minus changes the positive to negative\n",
    "print(\"After unary minus \",num)\n",
    "num = +num # Unary plus \n",
    "print(\"After unary plus \",num)\n",
    "num = ~num # Unary not change the sign\n",
    "print(\"After unary not \",num)"
   ]
  },
  {
   "cell_type": "markdown",
   "id": "d319264d-a371-41d2-b588-fdea32ea819b",
   "metadata": {},
   "source": [
    "Q8 Use the ternary operator to assign values based on conditions."
   ]
  },
  {
   "cell_type": "code",
   "execution_count": null,
   "id": "f27f9e48-99b9-4fd2-b252-1fb8a28a1da2",
   "metadata": {},
   "outputs": [],
   "source": [
    "# Taking nums input\n",
    "num1 = int(input(\"Enter first number  : \"))\n",
    "num2 = int(input(\"Enter second number : \"))\n",
    "\n",
    "# Using ternary operator to checking which number is greater\n",
    "greater_num = num1 if num1>num2 else num2\n",
    "print(f\"Greater between {num1} and {num2} is {greater_num}\")"
   ]
  },
  {
   "cell_type": "code",
   "execution_count": null,
   "id": "260b0068-29a7-46a8-a984-56d3ffaf26aa",
   "metadata": {},
   "outputs": [],
   "source": []
  }
 ],
 "metadata": {
  "kernelspec": {
   "display_name": "Python 3 (ipykernel)",
   "language": "python",
   "name": "python3"
  },
  "language_info": {
   "codemirror_mode": {
    "name": "ipython",
    "version": 3
   },
   "file_extension": ".py",
   "mimetype": "text/x-python",
   "name": "python",
   "nbconvert_exporter": "python",
   "pygments_lexer": "ipython3",
   "version": "3.10.8"
  }
 },
 "nbformat": 4,
 "nbformat_minor": 5
}
