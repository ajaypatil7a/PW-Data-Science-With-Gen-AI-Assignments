{
 "cells": [
  {
   "cell_type": "markdown",
   "id": "084288ae-1a40-43ad-9c33-1141f2a31f4f",
   "metadata": {
    "tags": []
   },
   "source": [
    "### Q1 Explain the significance of Python keywords and provide examples of five keywords."
   ]
  },
  {
   "cell_type": "markdown",
   "id": "c9506f5b-389a-45c0-9f2e-8b9b2b99920b",
   "metadata": {},
   "source": [
    "Python keywords are reserved words that have special meanings to the compiler. They are used to define the syntax and structure of the Python language, and you cannot use a keyword as a variable name, function name, or any other identifier.\n",
    "Python keywords serve as building blocks for creating programs and defining the structure of the code. They represent various programming constructs, control flow statements, data types, and other essential elements.\n",
    "\n",
    "    1. class : 'class' keyword is used to define the class in a python\n",
    "    2. def   : 'def' is used to define the functions \n",
    "    3. if    : 'if' is used to check wheather condition and run block of code based on condition\n",
    "    4. True  : 'True' is a value type keyword indicating boolean value \n",
    "    5. import: 'import' is used to import modules in python file"
   ]
  },
  {
   "cell_type": "markdown",
   "id": "da5ca709-07cb-4070-a6ba-4eb4af650478",
   "metadata": {},
   "source": [
    "### Q2 Describe the rules for defining identifiers in Python and provide an example"
   ]
  },
  {
   "cell_type": "markdown",
   "id": "302985fb-18aa-4471-b09d-e7222bf9e219",
   "metadata": {},
   "source": [
    "*In Python, identifiers are names given to variables, functions, classes, modules, or any other entities in the program. Here are the rules for defining identifiers in Python:\n",
    "\n",
    "1. Valid Characters: Identifiers can consist of letters (both uppercase and lowercase), digits, and the underscore character (_). However, they cannot start with a digit.\n",
    "\n",
    "2. Case-sensitive: Python is case-sensitive, so \"myVar\" and \"myvar\" would be considered different identifiers.\n",
    "\n",
    "3. Reserved Words: Avoid using reserved words (keywords) as identifiers. For example, you cannot use words like \"if,\" \"else,\" \"for,\" or \"class\" as identifiers.\n",
    "\n",
    "4. Length: There is no maximum length for an identifier in Python, but it's a good practice to keep them reasonably short and descriptive.\n",
    "\n",
    "eg. \n",
    "1. Valid Identifiers\n",
    "    1. variable_name = 42\n",
    "    2. my_function = lambda x: x * 2\n",
    "    3. ClassExample = MyClass()\n",
    "    4. module_name = \"example_module\"\n",
    "\n",
    "2. Invalid Identifiers\n",
    "    1. 1st_variable = 10  # Starts with a digit\n",
    "    2. if = 5            # Using a reserved word as an identifier\n",
    "    3. my-variable = 3   # Contains an invalid character \"-\""
   ]
  },
  {
   "cell_type": "markdown",
   "id": "0e10217b-29d1-4c6a-89c5-9538f52f7939",
   "metadata": {},
   "source": [
    "### Q3 What are comments in Python, and why are they useful? Provide an example."
   ]
  },
  {
   "cell_type": "markdown",
   "id": "60d527db-4388-4cc0-abf1-0213f90c9121",
   "metadata": {},
   "source": [
    "Comments in Python are used to add explanatory notes or annotations to the code. They are not executed by the Python interpreter and are purely for human readability. Comments can provide information about the purpose of the code, explain complex sections, or serve as a reminder for future modifications. They play a crucial role in making the code more understandable and maintainable.\n",
    "\n",
    "In Python, there are two types of comments:\n",
    "\n",
    "1. Single-line Comments : These are created using the hash (#) symbol and extend from the # symbol to the end of the line.\n",
    "\n",
    "2. Multi-line Comments/Docstrings : For longer comments or documentation, triple quotes (''' or \"\"\") can be used to create multi-line comments, often referred to as docstrings. Docstrings are also used for documentation purposes, and they are associated with functions, classes, and modules.\n",
    "\n",
    "eg <br>\n",
    "\\# This is a single-line comment <br>\n",
    "variable = 42  # Assigning the value 42 to the variable\n",
    "<br>\n",
    "\"\"\"<br>\n",
    "This is a multi-line comment (docstring). <br>\n",
    "It can span multiple lines and is often used <br>\n",
    "for function or module-level documentation.<br>\n",
    "\"\"\"\n",
    "<br>\n",
    "def example_function(parameter):\n",
    "\n",
    "    \"\"\"\n",
    "    This is a docstring for the example_function\n",
    "    \n",
    "    Parameters:\n",
    "    parameter: an input parameter for the function\n",
    "    \n",
    "    Returns:\n",
    "    The result of some computation based on the input parameter.\n",
    "    \"\"\"\n",
    "    return parameter * 2"
   ]
  },
  {
   "cell_type": "markdown",
   "id": "b325d1e9-87a6-41e0-ad02-c2436845f628",
   "metadata": {},
   "source": [
    "### Q4 Why is proper indentation important in Python?"
   ]
  },
  {
   "cell_type": "markdown",
   "id": "4fe8821b-48e3-4e03-9b1e-9c3a5aa8e044",
   "metadata": {},
   "source": [
    "In Python, proper indentation is not just a matter of style; it is a fundamental aspect of the language's syntax. Unlike many other programming languages that use braces {} or keywords to define blocks of code, Python relies on indentation to indicate the structure and scope of the code. The primary reasons why proper indentation is important in Python are:\n",
    "\n",
    "1. Readability: Indentation makes the code more readable and visually organized. It helps to clearly define the structure of the code, making it easier for developers to understand the relationships between different blocks of code.\n",
    "\n",
    "2. Code Blocks: Python uses indentation to define code blocks (such as loops, conditionals, and functions). The indentation level determines which statements belong to a particular block. Consistent and correct indentation is crucial for the interpreter to correctly interpret the code's logic.\n",
    "\n",
    "3. No Braces or Begin/End Keywords: Unlike some other languages, Python does not use braces or explicit keywords like \"begin\" and \"end\" to denote the start and end of code blocks. The only indication of a block's beginning and end is the level of indentation.\n",
    "\n",
    "4. Enforces Consistency: Consistent indentation promotes a standardized and clean coding style across projects and among different developers. This consistency is particularly important when working on collaborative projects where multiple people contribute to the codebase."
   ]
  },
  {
   "cell_type": "markdown",
   "id": "61c502d6-7dc0-48d7-91dd-7b96036066d7",
   "metadata": {},
   "source": [
    "### Q5 What happens if indentation is incorrect in Python?"
   ]
  },
  {
   "cell_type": "markdown",
   "id": "efab7157-2fd6-4650-a886-1c23c6333d80",
   "metadata": {},
   "source": [
    "In python if indentation is incorrect or inconsistent, it can lead to indentation errors and affect the program's execution. The Python interpreter relies on proper indentation to understand the structure and scope of the code.\n",
    "\n",
    "Here's what happens if indentation is incorrect in Python:\n",
    "\n",
    "1. IndentationError: If the interpreter detects inconsistent or improper indentation, it raises an IndentationError. This error indicates that there is a problem with the code's indentation, and the interpreter is unable to parse the code correctly.\n",
    "\n",
    "2. Incorrect Code Execution: Incorrect indentation can change the meaning of the code and lead to unexpected behavior. Statements that should be part of a specific block may be treated as if they are outside the block, resulting in logical errors.\n",
    "\n",
    "3. No Brace or Keyword Indication: Unlike some programming languages that use braces {} or keywords like \"begin\" and \"end\" to define code blocks, Python relies solely on indentation. Incorrect indentation can cause confusion about the structure of the code and may lead to unintended consequences."
   ]
  },
  {
   "cell_type": "markdown",
   "id": "4ef2c4b1-a16a-4d92-9b1a-ee0fccb9b5e5",
   "metadata": {},
   "source": [
    "### Q6 Differentiate between expression and statement in Python with examples."
   ]
  },
  {
   "cell_type": "markdown",
   "id": "91281c84-cfab-4548-9ce9-69a713aa12c4",
   "metadata": {},
   "source": [
    "In Python, both expressions and statements are fundamental elements of the language, but they serve different purposes.\n",
    "\n",
    "1. Expression:\n",
    "    1. An expression is a combination of values, variables, operators, and function calls that can be evaluated to produce a result.\n",
    "    2. Expressions always return a value and can be as simple as a single variable or as complex as a combination of multiple operations.\n",
    "    3. Examples of expressions include arithmetic expressions, function calls, and any combination of values or variables that can be evaluated.\n",
    "\n",
    "\\# Examples of expressions\n",
    "x = 5 <br>\n",
    "y = 10 <br>\n",
    "result = x + y  # Arithmetic expression <br>\n",
    "square = x ** 2  # Another arithmetic expression <br>\n",
    "greeting = \"Hello, \" + \"World!\"  # String concatenation <br>\n",
    "\n",
    "2. Statement:\n",
    "    1. A statement is a complete line of code that performs a specific action. Unlike expressions, statements may not necessarily return a value.\n",
    "    2. Statements often include assignments, control flow structures (if, for, while), function definitions, and other constructs that control the flow of the program.\n",
    "    3. Statements are typically executed one after another in a sequence.\n",
    "    \n",
    "\\# Examples of statements <br>\n",
    "assignment_statement = x = 5  # Assignment statement <br>\n",
    "if x > 0:  # If statement<br>\n",
    "    &nbsp;&nbsp;&nbsp;&nbsp;print(\"x is positive\")  # Print statement <br>\n",
    "for i in range(3):  # For loop statement <br>\n",
    "    &nbsp;&nbsp;&nbsp;&nbsp;print(i) <br>"
   ]
  },
  {
   "cell_type": "code",
   "execution_count": null,
   "id": "3710a1e9-1375-4cbc-a54a-5d1d3583f2f6",
   "metadata": {},
   "outputs": [],
   "source": []
  }
 ],
 "metadata": {
  "kernelspec": {
   "display_name": "Python 3 (ipykernel)",
   "language": "python",
   "name": "python3"
  },
  "language_info": {
   "codemirror_mode": {
    "name": "ipython",
    "version": 3
   },
   "file_extension": ".py",
   "mimetype": "text/x-python",
   "name": "python",
   "nbconvert_exporter": "python",
   "pygments_lexer": "ipython3",
   "version": "3.10.8"
  }
 },
 "nbformat": 4,
 "nbformat_minor": 5
}
