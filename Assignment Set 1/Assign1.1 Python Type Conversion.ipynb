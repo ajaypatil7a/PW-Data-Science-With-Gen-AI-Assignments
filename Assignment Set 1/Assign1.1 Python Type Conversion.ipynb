{
 "cells": [
  {
   "cell_type": "markdown",
   "id": "ec87d06c-316c-4feb-b874-5bfeab4db4de",
   "metadata": {},
   "source": [
    "Q1 Convert an iteger to a floatig-point number."
   ]
  },
  {
   "cell_type": "code",
   "execution_count": 1,
   "id": "2cb840f8-9de9-4aa7-ab74-3cb1646bb0d5",
   "metadata": {},
   "outputs": [
    {
     "name": "stdout",
     "output_type": "stream",
     "text": [
      "97 <class 'int'>\n",
      "97.0 <class 'float'>\n"
     ]
    }
   ],
   "source": [
    "a = 97\n",
    "print(a, type(a)) # prints number and its type\n",
    "a = float(a) # Explicitly type cast integer to float\n",
    "print(a, type(a)) # prints number and its type"
   ]
  },
  {
   "cell_type": "markdown",
   "id": "3826753d-04df-4fed-8137-76c8b510bd72",
   "metadata": {},
   "source": [
    "Q2 Convert a float to an integer"
   ]
  },
  {
   "cell_type": "code",
   "execution_count": 2,
   "id": "88af1302-5b05-46d5-b736-0b1452cdd95e",
   "metadata": {},
   "outputs": [
    {
     "name": "stdout",
     "output_type": "stream",
     "text": [
      "79.9 <class 'float'>\n",
      "79 <class 'int'>\n"
     ]
    }
   ],
   "source": [
    "a = 79.9\n",
    "print(a, type(a)) # prints number and its type\n",
    "a = int(a) # Explicitly type cast float to integer\n",
    "print(a, type(a)) # prints number and its type"
   ]
  },
  {
   "cell_type": "markdown",
   "id": "1911b33c-3081-4173-8014-1fdfe063793a",
   "metadata": {},
   "source": [
    "Q3 Convert an integer to a string"
   ]
  },
  {
   "cell_type": "code",
   "execution_count": 3,
   "id": "aa7a16b9-0704-4125-a062-c3cccf2afa3a",
   "metadata": {},
   "outputs": [
    {
     "name": "stdout",
     "output_type": "stream",
     "text": [
      "97 <class 'int'>\n",
      "97 <class 'str'>\n"
     ]
    }
   ],
   "source": [
    "a = 97\n",
    "print(a, type(a)) # prints number and its type\n",
    "a = str(a) # Explicitly type cast integer to string\n",
    "print(a, type(a)) # prints number and its type"
   ]
  },
  {
   "cell_type": "markdown",
   "id": "4f1d171b-db51-4979-aa5c-5cddb312752b",
   "metadata": {},
   "source": [
    "Q4 Convert a list to a tuple"
   ]
  },
  {
   "cell_type": "code",
   "execution_count": 5,
   "id": "425b1915-e72c-4ae7-a517-ddb4958ac1ec",
   "metadata": {},
   "outputs": [
    {
     "name": "stdout",
     "output_type": "stream",
     "text": [
      "[1, 2, 3, 4, 5, 6, 7, 8, 9] <class 'list'>\n",
      "(1, 2, 3, 4, 5, 6, 7, 8, 9) <class 'tuple'>\n"
     ]
    }
   ],
   "source": [
    "nums = [1,2,3,4,5,6,7,8,9] #List of integers\n",
    "print(nums,type(nums)) \n",
    "nums = tuple(nums) # Explicitly type casting list to tuple\n",
    "print(nums,type(nums))"
   ]
  },
  {
   "cell_type": "markdown",
   "id": "cc569e3c-07cb-4ae5-ba34-94a8ea1d15fa",
   "metadata": {},
   "source": [
    "Q5 Convert a tuple to a list"
   ]
  },
  {
   "cell_type": "code",
   "execution_count": 6,
   "id": "09174a6f-25ee-41ea-99b7-f5cd991baa13",
   "metadata": {},
   "outputs": [
    {
     "name": "stdout",
     "output_type": "stream",
     "text": [
      "(1, 2, 3, 4, 5, 6, 7, 8, 9) <class 'tuple'>\n",
      "[1, 2, 3, 4, 5, 6, 7, 8, 9] <class 'list'>\n"
     ]
    }
   ],
   "source": [
    "nums = (1,2,3,4,5,6,7,8,9) #Tuple of integers\n",
    "print(nums,type(nums)) \n",
    "nums = list(nums) # Explicitly type casting tuple to a list\n",
    "print(nums,type(nums))"
   ]
  },
  {
   "cell_type": "markdown",
   "id": "08726ad5-3fc0-4631-a109-755282c4bd6b",
   "metadata": {},
   "source": [
    "Q6 Convert a decimal number to binary"
   ]
  },
  {
   "cell_type": "code",
   "execution_count": 8,
   "id": "7f0a7bd0-4213-4e68-8dfd-feead0f3b759",
   "metadata": {},
   "outputs": [
    {
     "name": "stdout",
     "output_type": "stream",
     "text": [
      "97  Decimal number\n",
      "0b1100001  Binary Number\n"
     ]
    }
   ],
   "source": [
    "num = 97\n",
    "print(num,\" Decimal number\")\n",
    "num = bin(num) # Converting decimal to binary\n",
    "print(num, \" Binary Number\")"
   ]
  },
  {
   "cell_type": "markdown",
   "id": "8af484b0-6ea6-4b2e-9ff7-0a0f88480634",
   "metadata": {},
   "source": [
    "Q7 Convert non-zero number to boolean"
   ]
  },
  {
   "cell_type": "code",
   "execution_count": 9,
   "id": "392f2b9d-1726-4db8-8e6f-91f6e1d5b0a1",
   "metadata": {},
   "outputs": [
    {
     "name": "stdout",
     "output_type": "stream",
     "text": [
      "7  Before Conversion\n",
      "True  After Conversion\n"
     ]
    }
   ],
   "source": [
    "num = 7\n",
    "print(num,\" Before Conversion\")\n",
    "num = bool(num) # Converting to bool\n",
    "print(num,\" After Conversion\")"
   ]
  },
  {
   "cell_type": "code",
   "execution_count": null,
   "id": "e9c20e16-d54f-457e-b866-4992d5efde63",
   "metadata": {},
   "outputs": [],
   "source": []
  }
 ],
 "metadata": {
  "kernelspec": {
   "display_name": "Python 3 (ipykernel)",
   "language": "python",
   "name": "python3"
  },
  "language_info": {
   "codemirror_mode": {
    "name": "ipython",
    "version": 3
   },
   "file_extension": ".py",
   "mimetype": "text/x-python",
   "name": "python",
   "nbconvert_exporter": "python",
   "pygments_lexer": "ipython3",
   "version": "3.10.8"
  }
 },
 "nbformat": 4,
 "nbformat_minor": 5
}
